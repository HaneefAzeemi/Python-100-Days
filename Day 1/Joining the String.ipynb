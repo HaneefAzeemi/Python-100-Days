{
 "cells": [
  {
   "cell_type": "code",
   "execution_count": 3,
   "id": "f03bdd41",
   "metadata": {},
   "outputs": [
    {
     "name": "stdout",
     "output_type": "stream",
     "text": [
      "Before Combining:\n",
      "First Name = Muhammad\n",
      "Last Name = Haneef\n",
      "After Combining:\n",
      "Muhammad Haneef\n"
     ]
    }
   ],
   "source": [
    "firstname = \"Muhammad\"\n",
    "lastname = \"Haneef\"\n",
    "\n",
    "print(\"Before Combining:\")\n",
    "print(\"First Name =\", firstname)\n",
    "print(\"Last Name =\", lastname)\n",
    "\n",
    "print(\"After Combining:\")\n",
    "print(firstname + \" \"+ lastname)"
   ]
  },
  {
   "cell_type": "code",
   "execution_count": null,
   "id": "f0659d1b",
   "metadata": {},
   "outputs": [],
   "source": []
  }
 ],
 "metadata": {
  "kernelspec": {
   "display_name": "Python 3 (ipykernel)",
   "language": "python",
   "name": "python3"
  },
  "language_info": {
   "codemirror_mode": {
    "name": "ipython",
    "version": 3
   },
   "file_extension": ".py",
   "mimetype": "text/x-python",
   "name": "python",
   "nbconvert_exporter": "python",
   "pygments_lexer": "ipython3",
   "version": "3.9.13"
  }
 },
 "nbformat": 4,
 "nbformat_minor": 5
}
