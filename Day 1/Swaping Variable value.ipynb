{
 "cells": [
  {
   "cell_type": "code",
   "execution_count": 3,
   "id": "5a620990",
   "metadata": {},
   "outputs": [
    {
     "name": "stdout",
     "output_type": "stream",
     "text": [
      "a = 5\n",
      "b = 2\n",
      "Before switching:\n",
      "a = 5\n",
      "b = 2\n",
      "After switching:\n",
      "a = 2\n",
      "b = 5\n"
     ]
    }
   ],
   "source": [
    "a = input(\"a = \")\n",
    "b = input(\"b = \")\n",
    "\n",
    "print(\"Before switching:\")\n",
    "print(\"a =\", a)\n",
    "print(\"b =\", b)\n",
    "\n",
    "# Switch the values of a and b using a temporary variable\n",
    "c = a\n",
    "a = b\n",
    "b = c\n",
    "\n",
    "print(\"After switching:\")\n",
    "print(\"a =\", a)\n",
    "print(\"b =\", b)"
   ]
  }
 ],
 "metadata": {
  "kernelspec": {
   "display_name": "Python 3 (ipykernel)",
   "language": "python",
   "name": "python3"
  },
  "language_info": {
   "codemirror_mode": {
    "name": "ipython",
    "version": 3
   },
   "file_extension": ".py",
   "mimetype": "text/x-python",
   "name": "python",
   "nbconvert_exporter": "python",
   "pygments_lexer": "ipython3",
   "version": "3.9.13"
  }
 },
 "nbformat": 4,
 "nbformat_minor": 5
}
