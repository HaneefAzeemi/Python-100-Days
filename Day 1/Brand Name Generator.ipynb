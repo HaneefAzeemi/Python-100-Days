{
 "cells": [
  {
   "cell_type": "code",
   "execution_count": 1,
   "id": "c5026e89",
   "metadata": {},
   "outputs": [
    {
     "name": "stdout",
     "output_type": "stream",
     "text": [
      "Hello how are you Welcome to Brand Name Generator\n",
      "\n",
      "What is your Name?\n",
      "Haneef\n",
      "Ok Haneef give me the Following Information\n",
      "\n",
      "What is your City Name?\n",
      "Karachi\n",
      "What is your Pet Name?\n",
      "Eagle\n",
      "Your Brand Name Can be\n",
      "Karachi Eagle !\n",
      "OR\n",
      "Eagles of Karachi !\n"
     ]
    }
   ],
   "source": [
    "print(\"Hello how are you Welcome to Brand Name Generator\\n\")\n",
    "name = input(\"What is your Name?\\n\")\n",
    "print(\"Ok \" + name + \" \" + \"give me the Following Information\\n\")\n",
    "cityname = input(\"What is your City Name?\\n\")\n",
    "petname = input(\"What is your Pet Name?\\n\")\n",
    "\n",
    "print(\"Your Brand Name Can be\\n\" + cityname + \" \" + petname+\" !\")\n",
    "print(\"OR\\n\" + petname + \"s of \" + cityname + \" !\")"
   ]
  },
  {
   "cell_type": "code",
   "execution_count": null,
   "id": "0a5803ba",
   "metadata": {},
   "outputs": [],
   "source": []
  }
 ],
 "metadata": {
  "kernelspec": {
   "display_name": "Python 3 (ipykernel)",
   "language": "python",
   "name": "python3"
  },
  "language_info": {
   "codemirror_mode": {
    "name": "ipython",
    "version": 3
   },
   "file_extension": ".py",
   "mimetype": "text/x-python",
   "name": "python",
   "nbconvert_exporter": "python",
   "pygments_lexer": "ipython3",
   "version": "3.9.13"
  }
 },
 "nbformat": 4,
 "nbformat_minor": 5
}
